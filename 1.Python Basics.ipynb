{
 "cells": [
  {
   "cell_type": "code",
   "execution_count": 1,
   "metadata": {},
   "outputs": [
    {
     "name": "stdout",
     "output_type": "stream",
     "text": [
      "My name is Gaurav\n"
     ]
    }
   ],
   "source": [
    "print(\"My name is Gaurav\")"
   ]
  },
  {
   "cell_type": "code",
   "execution_count": 2,
   "metadata": {},
   "outputs": [
    {
     "name": "stdout",
     "output_type": "stream",
     "text": [
      "My name is Gaurav\n"
     ]
    }
   ],
   "source": [
    "print('My name is Gaurav')"
   ]
  },
  {
   "cell_type": "markdown",
   "metadata": {},
   "source": [
    "#### Basic Maths in Python "
   ]
  },
  {
   "cell_type": "code",
   "execution_count": 11,
   "metadata": {},
   "outputs": [
    {
     "name": "stdout",
     "output_type": "stream",
     "text": [
      "11\n",
      "2.0\n",
      "6.333333333333333\n",
      "9\n",
      "gauravgaurav\n",
      "1\n",
      "6.33\n"
     ]
    }
   ],
   "source": [
    "print(5+6) # Sum\n",
    "print(10/5) #Division\n",
    "print(19/3) # Division with decimals\n",
    "print(3**2) # exponential\n",
    "print(\"gaurav\"*2) #duplications\n",
    "print(10%3) #remainder\n",
    "print(round(19/3,2)) #rounding"
   ]
  },
  {
   "cell_type": "code",
   "execution_count": 12,
   "metadata": {},
   "outputs": [
    {
     "name": "stdout",
     "output_type": "stream",
     "text": [
      "My name is  Gaurav  and my age is  32\n"
     ]
    }
   ],
   "source": [
    "#using variables in the print statements\n",
    "name=\"Gaurav\"\n",
    "age=\"32\"\n",
    "print(\"My name is \",name,\" and my age is \",age);"
   ]
  },
  {
   "cell_type": "code",
   "execution_count": 28,
   "metadata": {},
   "outputs": [
    {
     "name": "stdout",
     "output_type": "stream",
     "text": [
      "Gaurav is my name and 32 is the age\n"
     ]
    }
   ],
   "source": [
    "#Python way of merging\n",
    "name=\"Gaurav\"\n",
    "age=\"32\"\n",
    "msg=\"{} is my name and {} is the age\".format(name,age)\n",
    "print(msg)"
   ]
  },
  {
   "cell_type": "markdown",
   "metadata": {},
   "source": [
    "#### find the data type of the variables"
   ]
  },
  {
   "cell_type": "code",
   "execution_count": 17,
   "metadata": {},
   "outputs": [
    {
     "name": "stdout",
     "output_type": "stream",
     "text": [
      "<class 'str'>\n",
      "343\n",
      "<class 'float'>\n",
      "<class 'bool'>\n"
     ]
    }
   ],
   "source": [
    "#string\n",
    "name=\"Gaurav\"\n",
    "print(type(name))\n",
    "\n",
    "#integer\n",
    "id=343\n",
    "print((id))\n",
    "\n",
    "#float\n",
    "salary=10009.344\n",
    "print(type(salary))\n",
    "\n",
    "#boolean\n",
    "is_active=True\n",
    "print(type(is_active))\n"
   ]
  },
  {
   "cell_type": "code",
   "execution_count": 27,
   "metadata": {},
   "outputs": [
    {
     "name": "stdout",
     "output_type": "stream",
     "text": [
      "I Started with $100and now have $194.87171000000012.Awsome!\n"
     ]
    }
   ],
   "source": [
    "# type conversion \n",
    "savings = 100\n",
    "result = 100 * 1.10 ** 7\n",
    "\n",
    "#fix the printout ,but that will not work because the \n",
    "#print(\"I Started with $\"+ savings + \"and now have $\" +  result + \".Awsome!\")\n",
    "\n",
    "print(\"I Started with $\"+ str(savings) + \"and now have $\" +  str(result) + \".Awsome!\")"
   ]
  },
  {
   "cell_type": "markdown",
   "metadata": {},
   "source": [
    "#### Python string manipulation examples"
   ]
  },
  {
   "cell_type": "code",
   "execution_count": 26,
   "metadata": {},
   "outputs": [
    {
     "name": "stdout",
     "output_type": "stream",
     "text": [
      "Gaurav\n",
      "gaurav\n",
      "GAURAV\n",
      "gAuRaV\n",
      "Gaurav\n"
     ]
    }
   ],
   "source": [
    "#string to upper case\n",
    "name = \"gaurav\"\n",
    "print(name.capitalize()) #Capitalize s # 'hello' => 'Hello'\n",
    "\n",
    "name=\"GAURAV\"\n",
    "print(name.lower()) #Lowercase s # 'HELLO' => 'hello'\n",
    "\n",
    "name=\"gaurav\"\n",
    "print(name.upper()) #Uppercase s # 'hello' => 'HELLO'\n",
    "\n",
    "name=\"GaUrAv\"\n",
    "print(name.swapcase()) #Swap cases of all characters in s # 'Hello' => \"hELLO\"\n",
    "\n",
    "name=\"gaurav\"\n",
    "print(name.title()) #Titlecase s # 'hello world' => 'Hello World'"
   ]
  },
  {
   "cell_type": "code",
   "execution_count": 37,
   "metadata": {},
   "outputs": [
    {
     "name": "stdout",
     "output_type": "stream",
     "text": [
      "b\n",
      "5\n",
      "1\n"
     ]
    }
   ],
   "source": [
    "#print smallest character in the string\n",
    "name=\"crdb\"\n",
    "print(min(name))\n",
    "\n",
    "name=\"5678\"\n",
    "print(min(name))\n",
    "\n",
    "#conclusion number is evaluted first over the characters\n",
    "name=\"1a2b3c\"\n",
    "print(min(name))"
   ]
  },
  {
   "cell_type": "code",
   "execution_count": 35,
   "metadata": {},
   "outputs": [
    {
     "name": "stdout",
     "output_type": "stream",
     "text": [
      "r\n",
      "8\n",
      "c\n"
     ]
    }
   ],
   "source": [
    "#print the largest character\n",
    "name=\"crdb\"\n",
    "print(max(name))\n",
    "\n",
    "name=\"5678\"\n",
    "print(max(name))\n",
    "\n",
    "\n",
    "name=\"1a2b3c\"\n",
    "print(max(name))"
   ]
  },
  {
   "cell_type": "code",
   "execution_count": 39,
   "metadata": {},
   "outputs": [
    {
     "name": "stdout",
     "output_type": "stream",
     "text": [
      "18\n"
     ]
    }
   ],
   "source": [
    "#print length of the string \n",
    "print(len(\"gaurav soni is mad\"))"
   ]
  },
  {
   "cell_type": "markdown",
   "metadata": {},
   "source": [
    "#### strip the whitespaces & characters  from the string"
   ]
  },
  {
   "cell_type": "code",
   "execution_count": 69,
   "metadata": {},
   "outputs": [
    {
     "name": "stdout",
     "output_type": "stream",
     "text": [
      "Before the strip command   GAURAV \n",
      "After the strip command  GAURAV\n",
      "GAURAV \n",
      " GAURAV\n",
      "GAURAV\n",
      "GAURAV$$$\n",
      "$$$GAURAV\n",
      "0000000000000000000000000000000000000000000000000000000000000000000000000000000000000000$$$GAURAV$$$\n"
     ]
    }
   ],
   "source": [
    "name=\" GAURAV \"# note that there are spaces before and after the name \n",
    "print(\"Before the strip command \",name) #before \n",
    "print(\"After the strip command \",name.strip()) # after\n",
    "\n",
    "print(name.lstrip()) # removing the left space\n",
    "print(name.rstrip()) # removing the right space\n",
    "\n",
    "\n",
    "#since nothing is given ,which means space are removed \n",
    "\n",
    "name=\"$$$GAURAV$$$\"\n",
    "print(name.strip(\"$\"))\n",
    "\n",
    "print(name.lstrip(\"$\"))\n",
    "print(name.rstrip(\"$\"))\n",
    "\n",
    "#Left fill s with ASCII '0' digits with total length width # '42' => '00042'\n",
    "print(name.zfill(100))\n",
    "\n"
   ]
  },
  {
   "cell_type": "markdown",
   "metadata": {},
   "source": [
    "#### check if the string is lower or upper ?"
   ]
  },
  {
   "cell_type": "code",
   "execution_count": 55,
   "metadata": {},
   "outputs": [
    {
     "name": "stdout",
     "output_type": "stream",
     "text": [
      "True\n",
      "False\n",
      "False\n",
      "True\n"
     ]
    }
   ],
   "source": [
    "name=\"gaurav\"\n",
    "surname=\"SONI\"\n",
    "\n",
    "print(name.islower())\n",
    "print(surname.islower())\n",
    "\n",
    "print(name.isupper())\n",
    "print(surname.isupper())"
   ]
  },
  {
   "cell_type": "markdown",
   "metadata": {},
   "source": [
    "#### find and replace"
   ]
  },
  {
   "cell_type": "code",
   "execution_count": 63,
   "metadata": {},
   "outputs": [
    {
     "name": "stdout",
     "output_type": "stream",
     "text": [
      "11\n",
      "44\n",
      "My name is Richa Soni ,but people calls me Richa\n"
     ]
    }
   ],
   "source": [
    "name=\"My name is Gaurav Soni\"\n",
    "search_word=\"Gaurav\"\n",
    "\n",
    "#search the index of the search word first occurence\n",
    "print(name.index(search_word))\n",
    "\n",
    "# raised error if the search word is not found\n",
    "search_word1=\"Gaurav1\"\n",
    "#print(name.find(search_word1))\n",
    "\n",
    "name = \"My name is Gaurav Soni ,but people calls me Gaurav\"\n",
    "\n",
    "#search the first occurence after 12th index and before 100th index\n",
    "print(name.index(search_word,12,100))\n",
    "\n",
    "\n",
    "#replace search word with replace word\n",
    "replace_word=\"Richa\"\n",
    "print(name.replace(search_word,replace_word))\n"
   ]
  },
  {
   "cell_type": "markdown",
   "metadata": {},
   "source": [
    "#### String manipulation SLICING"
   ]
  },
  {
   "cell_type": "code",
   "execution_count": 84,
   "metadata": {},
   "outputs": [
    {
     "name": "stdout",
     "output_type": "stream",
     "text": [
      "GAURAV SONI\n",
      "G\n",
      "GAURAV SONI\n",
      "GAURAV\n",
      "GAURAV\n",
      "I\n",
      "URAV SO\n",
      "\n"
     ]
    }
   ],
   "source": [
    "#Please assume string as an Arrray of Characters where index starts from ZERO\n",
    "# STRING SLICING.\n",
    "\n",
    "name=\"GAURAV SONI\"\n",
    "print(name)\n",
    "print(name[0]) # this will give character at index 0\n",
    "print(name[0:]) # this will give character from index 0 till max index\n",
    "print(name[0:6]) # this will give characters from index 0 to 6\n",
    "print(name[:6])# this will give characters till index 6\n",
    "print(name[-1]) # this will give last index \n",
    "print(name[2:-2])\n"
   ]
  },
  {
   "cell_type": "code",
   "execution_count": 88,
   "metadata": {},
   "outputs": [
    {
     "name": "stdout",
     "output_type": "stream",
     "text": [
      "0,1,2,3,4,"
     ]
    }
   ],
   "source": [
    "#Loops\n",
    "for i in range(5):\n",
    "    print(i,end=',')# a keyword called 'end' is used to specify delimiter b/w\n",
    "                  #values  default is \\n i replaced it with blank('')"
   ]
  },
  {
   "cell_type": "code",
   "execution_count": 89,
   "metadata": {},
   "outputs": [
    {
     "name": "stdout",
     "output_type": "stream",
     "text": [
      "1\n",
      "2\n",
      "3\n",
      "4\n",
      "5\n",
      "6\n",
      "7\n",
      "8\n",
      "9\n",
      "10\n"
     ]
    }
   ],
   "source": [
    "#while\n",
    "meter=1\n",
    "while(meter<=10):\n",
    "    print(meter)\n",
    "    meter+=1"
   ]
  },
  {
   "cell_type": "code",
   "execution_count": 90,
   "metadata": {},
   "outputs": [
    {
     "name": "stdout",
     "output_type": "stream",
     "text": [
      "Enter number \n",
      "1\n",
      "Enter number \n",
      "2\n",
      "Enter number \n",
      "3\n",
      "Enter number \n",
      "4\n",
      "Enter number \n",
      "5\n",
      "The sum of number inputted by you is  15\n"
     ]
    }
   ],
   "source": [
    "#program to Accept 3 Numbers and add them\n",
    "total=0\n",
    "\n",
    "for i in range(5):\n",
    "    num=int(input(\"Enter number \\n\"))\n",
    "    total+=num\n",
    "    \n",
    "print(\"The sum of number inputted by you is \",total)    "
   ]
  }
 ],
 "metadata": {
  "kernelspec": {
   "display_name": "Python 3",
   "language": "python",
   "name": "python3"
  },
  "language_info": {
   "codemirror_mode": {
    "name": "ipython",
    "version": 3
   },
   "file_extension": ".py",
   "mimetype": "text/x-python",
   "name": "python",
   "nbconvert_exporter": "python",
   "pygments_lexer": "ipython3",
   "version": "3.6.8"
  }
 },
 "nbformat": 4,
 "nbformat_minor": 2
}
