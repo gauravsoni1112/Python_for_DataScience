{
 "cells": [
  {
   "cell_type": "markdown",
   "metadata": {},
   "source": [
    "### Python comes with four built in data structures\n",
    "- List It is denoted by Square Brackes [] \n",
    "- Tuple is denoted by small Brackets()\n",
    "- Dictionary is denoted by curly Brackets{a:1,}\n",
    "- Set is denoted by curly Brackets {,}\n",
    "\n",
    "https://clouds.eos.ubc.ca/~phil/courses/eosc582/pdffiles/Python-data-manipulations.pdf"
   ]
  },
  {
   "cell_type": "markdown",
   "metadata": {},
   "source": [
    "#### ORDERED DATA STRUCTURES"
   ]
  },
  {
   "cell_type": "markdown",
   "metadata": {},
   "source": [
    "##### Lists\n",
    "- Mutable - We can change list anytime by adding or removing or chaning the objects\n",
    "- Ordered series\n",
    "- Traditionally of the same type of object.\n",
    "- Advantages: Mutable and ordered. Easy to understand. Relatively efficient memory usage.\n",
    "- Disadvantages: Searching is O(n)."
   ]
  },
  {
   "cell_type": "code",
   "execution_count": 219,
   "metadata": {},
   "outputs": [
    {
     "name": "stdout",
     "output_type": "stream",
     "text": [
      "[11.25, 18.0, 20.0, 10.75, 9.5]\n",
      "<class 'list'>\n"
     ]
    }
   ],
   "source": [
    "# area variables (in square meters)\n",
    "hall = 11.25\n",
    "kit = 18.0\n",
    "liv = 20.0\n",
    "bed = 10.75\n",
    "bath = 9.50\n",
    "\n",
    "# Create list areas\n",
    "areas=[hall, kit, liv, bed, bath]\n",
    "\n",
    "# Print areas\n",
    "print(areas)\n",
    "print(type(areas))"
   ]
  },
  {
   "cell_type": "code",
   "execution_count": 220,
   "metadata": {
    "collapsed": true
   },
   "outputs": [],
   "source": [
    "# A list in python is similar to the notion of an array in other programming langauge\n",
    "# There is no need to predeclare size of the list , it can grow and shrink dynamically \n",
    "# List is Hetrogeneous - Means we need not to declare the types of the objects we are storing\n",
    "# List is enclosed by Square Brackets ,and seperated by comma's"
   ]
  },
  {
   "cell_type": "code",
   "execution_count": 221,
   "metadata": {
    "collapsed": true
   },
   "outputs": [],
   "source": [
    "#Create an empty list \n",
    "prices = []"
   ]
  },
  {
   "cell_type": "code",
   "execution_count": 222,
   "metadata": {},
   "outputs": [
    {
     "name": "stdout",
     "output_type": "stream",
     "text": [
      "[32.0, 12.9, 45.34, 32.09, 23.1]\n"
     ]
    }
   ],
   "source": [
    "#list of temperatures\n",
    "temps = [32.0, 12.90, 45.34, 32.09, 23.10]\n",
    "\n",
    "print(temps)"
   ]
  },
  {
   "cell_type": "code",
   "execution_count": 223,
   "metadata": {},
   "outputs": [
    {
     "name": "stdout",
     "output_type": "stream",
     "text": [
      "['Gaurav', 'Richa', 'Shishir', 'Tanisha', 'Sovan']\n",
      "5\n"
     ]
    }
   ],
   "source": [
    "#list of words\n",
    "words = ['Gaurav','Richa','Shishir','Tanisha','Sovan']\n",
    "print(words)\n",
    "print(len(words))"
   ]
  },
  {
   "cell_type": "code",
   "execution_count": 224,
   "metadata": {},
   "outputs": [
    {
     "name": "stdout",
     "output_type": "stream",
     "text": [
      "['Polo', 1.2, 5000, 'Hachback']\n"
     ]
    }
   ],
   "source": [
    "#list of different objects\n",
    "car_details = [\"Polo\",1.2,5000,\"Hachback\"]\n",
    "print(car_details)"
   ]
  },
  {
   "cell_type": "code",
   "execution_count": 225,
   "metadata": {},
   "outputs": [
    {
     "name": "stdout",
     "output_type": "stream",
     "text": [
      "[[], [32.0, 12.9, 45.34, 32.09, 23.1], ['Gaurav', 'Richa', 'Shishir', 'Tanisha', 'Sovan'], ['Polo', 1.2, 5000, 'Hachback']]\n"
     ]
    }
   ],
   "source": [
    "#everything is objects in the list , hence we can create a list of list \n",
    "everything = [prices, temps, words, car_details]\n",
    "print(everything)"
   ]
  },
  {
   "cell_type": "code",
   "execution_count": 226,
   "metadata": {
    "collapsed": true
   },
   "outputs": [],
   "source": [
    "#working with list "
   ]
  },
  {
   "cell_type": "code",
   "execution_count": 227,
   "metadata": {},
   "outputs": [
    {
     "name": "stdout",
     "output_type": "stream",
     "text": [
      "a\n",
      "u\n"
     ]
    }
   ],
   "source": [
    "vowels = ['a', 'e', 'i','o', 'u'] \n",
    "word = \"Gaurav\"\n",
    "\n",
    "#write a code to print vowels \n",
    "for vowel in vowels:\n",
    "    if vowel in word:\n",
    "        print(vowel)"
   ]
  },
  {
   "cell_type": "code",
   "execution_count": 228,
   "metadata": {},
   "outputs": [
    {
     "name": "stdout",
     "output_type": "stream",
     "text": [
      "0\n",
      "1\n"
     ]
    },
    {
     "data": {
      "text/plain": [
       "['1', '2', '3', '4']"
      ]
     },
     "execution_count": 228,
     "metadata": {},
     "output_type": "execute_result"
    }
   ],
   "source": [
    "#Growing the list at runtime\n",
    "found = []\n",
    "print(len(found))\n",
    "\n",
    "#append in ordered way\n",
    "found.append('1')\n",
    "print(len(found))\n",
    "\n",
    "found.append('2')\n",
    "found.append('3')\n",
    "found.append('4')\n",
    "found"
   ]
  },
  {
   "cell_type": "code",
   "execution_count": 229,
   "metadata": {},
   "outputs": [
    {
     "name": "stdout",
     "output_type": "stream",
     "text": [
      "no\n"
     ]
    },
    {
     "data": {
      "text/plain": [
       "['1', '2', '3', '4', '9']"
      ]
     },
     "execution_count": 229,
     "metadata": {},
     "output_type": "execute_result"
    }
   ],
   "source": [
    "#check whether a values exist in the list or not\n",
    "\n",
    "if '9' in found:\n",
    "    print(\"yes\")\n",
    "else:\n",
    "    found.append('9')\n",
    "\n",
    "    \n",
    "if '9' not in found:\n",
    "    found.append('9')    \n",
    "else:\n",
    "    print(\"no\")\n",
    "    \n",
    "found    \n",
    "\n"
   ]
  },
  {
   "cell_type": "code",
   "execution_count": 230,
   "metadata": {},
   "outputs": [
    {
     "data": {
      "text/plain": [
       "['a', 'i', 'o', 'u']"
      ]
     },
     "execution_count": 230,
     "metadata": {},
     "output_type": "execute_result"
    }
   ],
   "source": [
    "#update the code \n",
    "vowels = ['a', 'e', 'i','o', 'u'] \n",
    "word = \"Gaurav Soni\"\n",
    "found=[]\n",
    "#write a code to print vowels \n",
    "for vowel in vowels:\n",
    "    if vowel in word:\n",
    "        if vowel not in found:\n",
    "            found.append(vowel)\n",
    "\n",
    "found            "
   ]
  },
  {
   "cell_type": "markdown",
   "metadata": {},
   "source": [
    "##### removing elements from the list\n",
    "- remove\n",
    "- pop\n",
    "- extend\n",
    "- insert"
   ]
  },
  {
   "cell_type": "code",
   "execution_count": 231,
   "metadata": {},
   "outputs": [
    {
     "data": {
      "text/plain": [
       "[1, 2, 3, 4, 5, 6]"
      ]
     },
     "execution_count": 231,
     "metadata": {},
     "output_type": "execute_result"
    }
   ],
   "source": [
    "# Remove - Takes an objects value as its sole argument TAKES ACTUAL VALUE AS INPUT\n",
    "nums = [1,2,3,4,5,5,6]\n",
    "nums.remove(5) #it removes the first occurence of the 5 \n",
    "nums "
   ]
  },
  {
   "cell_type": "code",
   "execution_count": 232,
   "metadata": {},
   "outputs": [
    {
     "name": "stdout",
     "output_type": "stream",
     "text": [
      "6\n",
      "[1, 2, 3, 4, 5, 5]\n",
      "1\n"
     ]
    }
   ],
   "source": [
    "#pop - Takes an optional index value as argument TAKES INDEX AS INPUT\n",
    "nums = [1,2,3,4,5,5,6]\n",
    "print(nums.pop()) #by default it removes the last object from the list and return the value\n",
    "print(nums)\n",
    "\n",
    "print(nums.pop(0))\n",
    "#print(nums.pop(100)) # throws errros"
   ]
  },
  {
   "cell_type": "code",
   "execution_count": 233,
   "metadata": {},
   "outputs": [
    {
     "data": {
      "text/plain": [
       "[1, 3, 2, 3, 4, 5, 5]"
      ]
     },
     "execution_count": 233,
     "metadata": {},
     "output_type": "execute_result"
    }
   ],
   "source": [
    "#Extend a list with Objects - Takes a list of objects as its sole arguments\n",
    "nums_extended=[1,3]\n",
    "nums_extended.extend(nums)\n",
    "nums_extended"
   ]
  },
  {
   "cell_type": "code",
   "execution_count": 234,
   "metadata": {},
   "outputs": [
    {
     "data": {
      "text/plain": [
       "[1, 2, 3, 4, 99, 5, 5]"
      ]
     },
     "execution_count": 234,
     "metadata": {},
     "output_type": "execute_result"
    }
   ],
   "source": [
    "#Insert an object into a list - TAkes an index value and an object as its argument\n",
    "nums.insert(0,1) #here 0 is index and 1 is the value\n",
    "nums\n",
    "\n",
    "nums.insert(4,99)\n",
    "nums"
   ]
  },
  {
   "cell_type": "code",
   "execution_count": 235,
   "metadata": {},
   "outputs": [
    {
     "name": "stdout",
     "output_type": "stream",
     "text": [
      "Help on class list in module builtins:\n",
      "\n",
      "class list(object)\n",
      " |  list() -> new empty list\n",
      " |  list(iterable) -> new list initialized from iterable's items\n",
      " |  \n",
      " |  Methods defined here:\n",
      " |  \n",
      " |  __add__(self, value, /)\n",
      " |      Return self+value.\n",
      " |  \n",
      " |  __contains__(self, key, /)\n",
      " |      Return key in self.\n",
      " |  \n",
      " |  __delitem__(self, key, /)\n",
      " |      Delete self[key].\n",
      " |  \n",
      " |  __eq__(self, value, /)\n",
      " |      Return self==value.\n",
      " |  \n",
      " |  __ge__(self, value, /)\n",
      " |      Return self>=value.\n",
      " |  \n",
      " |  __getattribute__(self, name, /)\n",
      " |      Return getattr(self, name).\n",
      " |  \n",
      " |  __getitem__(...)\n",
      " |      x.__getitem__(y) <==> x[y]\n",
      " |  \n",
      " |  __gt__(self, value, /)\n",
      " |      Return self>value.\n",
      " |  \n",
      " |  __iadd__(self, value, /)\n",
      " |      Implement self+=value.\n",
      " |  \n",
      " |  __imul__(self, value, /)\n",
      " |      Implement self*=value.\n",
      " |  \n",
      " |  __init__(self, /, *args, **kwargs)\n",
      " |      Initialize self.  See help(type(self)) for accurate signature.\n",
      " |  \n",
      " |  __iter__(self, /)\n",
      " |      Implement iter(self).\n",
      " |  \n",
      " |  __le__(self, value, /)\n",
      " |      Return self<=value.\n",
      " |  \n",
      " |  __len__(self, /)\n",
      " |      Return len(self).\n",
      " |  \n",
      " |  __lt__(self, value, /)\n",
      " |      Return self<value.\n",
      " |  \n",
      " |  __mul__(self, value, /)\n",
      " |      Return self*value.\n",
      " |  \n",
      " |  __ne__(self, value, /)\n",
      " |      Return self!=value.\n",
      " |  \n",
      " |  __new__(*args, **kwargs) from builtins.type\n",
      " |      Create and return a new object.  See help(type) for accurate signature.\n",
      " |  \n",
      " |  __repr__(self, /)\n",
      " |      Return repr(self).\n",
      " |  \n",
      " |  __reversed__(...)\n",
      " |      L.__reversed__() -- return a reverse iterator over the list\n",
      " |  \n",
      " |  __rmul__(self, value, /)\n",
      " |      Return value*self.\n",
      " |  \n",
      " |  __setitem__(self, key, value, /)\n",
      " |      Set self[key] to value.\n",
      " |  \n",
      " |  __sizeof__(...)\n",
      " |      L.__sizeof__() -- size of L in memory, in bytes\n",
      " |  \n",
      " |  append(...)\n",
      " |      L.append(object) -> None -- append object to end\n",
      " |  \n",
      " |  clear(...)\n",
      " |      L.clear() -> None -- remove all items from L\n",
      " |  \n",
      " |  copy(...)\n",
      " |      L.copy() -> list -- a shallow copy of L\n",
      " |  \n",
      " |  count(...)\n",
      " |      L.count(value) -> integer -- return number of occurrences of value\n",
      " |  \n",
      " |  extend(...)\n",
      " |      L.extend(iterable) -> None -- extend list by appending elements from the iterable\n",
      " |  \n",
      " |  index(...)\n",
      " |      L.index(value, [start, [stop]]) -> integer -- return first index of value.\n",
      " |      Raises ValueError if the value is not present.\n",
      " |  \n",
      " |  insert(...)\n",
      " |      L.insert(index, object) -- insert object before index\n",
      " |  \n",
      " |  pop(...)\n",
      " |      L.pop([index]) -> item -- remove and return item at index (default last).\n",
      " |      Raises IndexError if list is empty or index is out of range.\n",
      " |  \n",
      " |  remove(...)\n",
      " |      L.remove(value) -> None -- remove first occurrence of value.\n",
      " |      Raises ValueError if the value is not present.\n",
      " |  \n",
      " |  reverse(...)\n",
      " |      L.reverse() -- reverse *IN PLACE*\n",
      " |  \n",
      " |  sort(...)\n",
      " |      L.sort(key=None, reverse=False) -> None -- stable sort *IN PLACE*\n",
      " |  \n",
      " |  ----------------------------------------------------------------------\n",
      " |  Data and other attributes defined here:\n",
      " |  \n",
      " |  __hash__ = None\n",
      "\n"
     ]
    }
   ],
   "source": [
    "help(list)"
   ]
  },
  {
   "cell_type": "code",
   "execution_count": 236,
   "metadata": {},
   "outputs": [
    {
     "name": "stdout",
     "output_type": "stream",
     "text": [
      "4380128520 [1, 2, 3, 4, 5]\n",
      "[1, 2, 3, 4, 5]\n",
      "4380128520 [1, 2, 3, 4, 5, 7]\n",
      "[1, 2, 3, 4, 5, 7]\n"
     ]
    }
   ],
   "source": [
    "#Copying of the List \n",
    "first = [1,2,3,4,5]\n",
    "print(id(first),first)\n",
    "\n",
    "second = first # avoid using this operator ,otherwise it will change the first we change second\n",
    "print(second) # seems like I have a second copy YAyyy\n",
    "\n",
    "#lets change the second list\n",
    "second.append(7)\n",
    "print(id(second),second)\n",
    "print(first) # whops why this is been changes , I though second is copy of the first\n",
    "\n",
    "#seems like second and first both points to the same data ,which is not GOOD \n"
   ]
  },
  {
   "cell_type": "code",
   "execution_count": 237,
   "metadata": {},
   "outputs": [
    {
     "name": "stdout",
     "output_type": "stream",
     "text": [
      "4379837832 [1, 2, 3, 4, 5, 7]\n",
      "4379837832 [1, 2, 3, 4, 5, 7, 9]\n",
      "4380128520 [1, 2, 3, 4, 5, 7]\n",
      "4380128520 [1, 2, 3, 4, 5, 7]\n"
     ]
    }
   ],
   "source": [
    "# how to create an individual copy \n",
    "third = second.copy()\n",
    "print(id(third),third)\n",
    "\n",
    "\n",
    "#this seems to be fine ,lets change third and print all of them again ,hope for the best \n",
    "third.append(9)\n",
    "print(id(third),third)   #NICEEEEEEE\n",
    "print(id(second),second)\n",
    "print(id(first),first)"
   ]
  },
  {
   "cell_type": "code",
   "execution_count": 238,
   "metadata": {},
   "outputs": [
    {
     "name": "stdout",
     "output_type": "stream",
     "text": [
      "G\n",
      "!\n",
      "['a', 'u', 'a', 'r', 'a', 'v', ' ', 'i', 's', ' ', 'a', ' ', 'b', 'a', 'd', ' ', 'g', 'u', 'y', '!']\n",
      "['s', ' ', 'a', ' ', 'b', 'a', 'd', ' ', 'g', 'u', 'y']\n",
      "[]\n",
      "['G', 'a', 'u', 'a', 'r', 'a', 'v', ' ', 'i', 's', ' ', 'a', ' ', 'b', 'a', 'd', ' ', 'g', 'u', 'y', '!']\n",
      "['G', 'a', 'u', 'a', 'r', 'a', 'v', ' ', 'i']\n",
      "['s', ' ', 'a', ' ', 'b', 'a', 'd', ' ', 'g', 'u', 'y', '!']\n",
      "on\n"
     ]
    }
   ],
   "source": [
    "msg=list('Gauarav is a bad guy!')\n",
    "print(msg[0])\n",
    "print(msg[-1])\n",
    "print(msg[1:])\n",
    "print(msg[-12:-1])\n",
    "print(msg[-1:-12]) #remember this wont work......read before exam\n",
    "print(msg[:]) #this will return the full string\n",
    "print(msg[:-12]) # 0 index to -12 index \n",
    "print(msg[-12:]) # -12 to last index\n",
    "#print(msg[-123]) # should fail\n",
    "\n",
    "str = \"Don't panic\"\n",
    "print(str[1:3]) #see it prints from second to 3-1 = 2 ,it dint print the 'in the output"
   ]
  },
  {
   "cell_type": "markdown",
   "metadata": {},
   "source": [
    "###### LIST[START:STOP:STEP]\n",
    "- START lets control WHERE the range begins,default is 0\n",
    "- STOP lets control WHEN the range ends ,default is last index\n",
    "- STEP lets control HOW the range is generated ,default is 1"
   ]
  },
  {
   "cell_type": "code",
   "execution_count": 239,
   "metadata": {},
   "outputs": [
    {
     "name": "stdout",
     "output_type": "stream",
     "text": [
      "['G', 'u', 'a']\n",
      "['G', 'u', 'a', ' ', 's', 'a', 'b', 'd', 'g', 'y']\n",
      "['s', 'a', 'b', 'd', 'g', 'y']\n",
      "[]\n",
      "['G', 'a', 'u', 'r', 'a', 'v', ' ', 'i', 's', ' ', 'a', ' ', 'b', 'a', 'd', ' ', 'g', 'u', 'y', '!']\n",
      "['!', 'y', 'u', 'g', ' ', 'd', 'a', 'b', ' ', 'a', ' ', 's', 'i', ' ', 'v', 'a', 'r', 'u', 'a', 'G']\n",
      "[]\n",
      "['a', ' ', 'b', 'a', 'd', ' ', 'g', 'u', 'y']\n",
      "[' ', 'v', 'a', 'r', 'u', 'a']\n"
     ]
    }
   ],
   "source": [
    "msg=list('Gaurav is a bad guy!')\n",
    "\n",
    "print(msg[0:5:2])\n",
    "print(msg[::2])# start to end with skipping 2 records \n",
    "print(msg[-12::2])\n",
    "print(msg[-1:-10:2])#no output\n",
    "print(msg[::])\n",
    "print(msg[::-1]) # this is interesting ,this prints list in reverse order\n",
    "print(msg[-20:-1:-1]) #dint make sense\n",
    "print(msg[-10:-1:1])\n",
    "print(msg[6:0:-1]) #print string in reverse order ,remember the start is always greater in the this case when steps is negative"
   ]
  },
  {
   "cell_type": "code",
   "execution_count": 240,
   "metadata": {},
   "outputs": [
    {
     "name": "stdout",
     "output_type": "stream",
     "text": [
      "['G', 'a', 'u', 'r', 'a', 'v', ' ', 'i', 's', ' ', 'a', ' ', 'b', 'a', 'd', ' ', 'g', 'u', 'y', '!']\n",
      "G1a1u1r1a1v1 1i1s1 1a1 1b1a1d1 1g1u1y1!\n"
     ]
    }
   ],
   "source": [
    "#how to join two list \n",
    "list1='Gaurav is a bad guy!'\n",
    "list2 = list(list1) # wow converting a string to a list \n",
    "print(list2)\n",
    "#the below operation work in iteration and 1 is been joined with every element in the list \n",
    "print(\"1\".join(list2))"
   ]
  },
  {
   "cell_type": "code",
   "execution_count": 241,
   "metadata": {},
   "outputs": [
    {
     "name": "stdout",
     "output_type": "stream",
     "text": [
      "W\n",
      "h\n",
      "o\n",
      " \n",
      "w\n",
      "i\n",
      "l\n",
      "l\n",
      " \n",
      "w\n",
      "i\n",
      "n\n",
      " \n",
      "t\n",
      "h\n",
      "e\n",
      " \n",
      "E\n",
      "l\n",
      "e\n",
      "c\n",
      "t\n",
      "i\n",
      "o\n",
      "n\n",
      "s\n",
      " \n",
      "i\n",
      "n\n",
      " \n",
      "2\n",
      "0\n",
      "1\n",
      "9\n",
      "?\n"
     ]
    }
   ],
   "source": [
    "# for loops in the list \n",
    "statement = \"Who will win the Elections in 2019?\"\n",
    "statetment_list = list(statement)\n",
    "for letter in statetment_list:\n",
    "    print(letter)"
   ]
  },
  {
   "cell_type": "code",
   "execution_count": 242,
   "metadata": {},
   "outputs": [
    {
     "name": "stdout",
     "output_type": "stream",
     "text": [
      "N\n",
      "a\n",
      "r\n",
      "e\n",
      "n\n",
      "d\n",
      "r\n",
      "a\n",
      " \n",
      "M\n",
      "o\n",
      "d\n",
      "i\n",
      " \n",
      "R\n",
      "a\n",
      "h\n",
      "u\n",
      "l\n",
      " \n",
      "G\n",
      "a\n",
      "n\n",
      "d\n",
      "h\n",
      "i\n"
     ]
    }
   ],
   "source": [
    "# for loops understands slicing in the list\n",
    "statement = \"Narendra Modi or Rahul Gandhi\"\n",
    "statetment_list = list(statement)\n",
    "for letter in statetment_list[:13]:\n",
    "    print(letter)\n",
    "for letter in statetment_list[-13::1]:\n",
    "    print(letter)    "
   ]
  },
  {
   "cell_type": "code",
   "execution_count": 243,
   "metadata": {},
   "outputs": [
    {
     "name": "stdout",
     "output_type": "stream",
     "text": [
      "['Hi', 'Saif,', 'this', 'is', 'to', 'inform', 'you', 'that', \"I'm\", 'not', 'well', 'today.']\n",
      "<class 'list'>\n"
     ]
    }
   ],
   "source": [
    "#create a list by using split method ,by default it will split based on space\n",
    "a_sentence = \"Hi Saif, this is to inform you that I'm not well today.\"\n",
    "words_in_sentence = a_sentence.split() # by default this is been spliited based on the space\n",
    "print(words_in_sentence)\n",
    "print(type(words_in_sentence))"
   ]
  },
  {
   "cell_type": "code",
   "execution_count": 244,
   "metadata": {},
   "outputs": [
    {
     "name": "stdout",
     "output_type": "stream",
     "text": [
      "[\"Hi Saif, this is to inform you that I'm not well today\", \" I won't be coming to office, but I'm available on call\", ' Thanks', '']\n",
      "<class 'list'>\n"
     ]
    }
   ],
   "source": [
    "#create a list by using split method ,by default it will split based on dot\n",
    "a_mail = \"Hi Saif, this is to inform you that I'm not well today. I won't be coming to office, but I'm available on call. Thanks.\"\n",
    "words_in_mail = a_mail.split('.') # splitted based on dot\n",
    "print(words_in_mail)\n",
    "print(type(words_in_mail))"
   ]
  },
  {
   "cell_type": "code",
   "execution_count": 245,
   "metadata": {
    "collapsed": true
   },
   "outputs": [],
   "source": [
    "# EXERCISES"
   ]
  },
  {
   "cell_type": "code",
   "execution_count": 246,
   "metadata": {},
   "outputs": [
    {
     "name": "stdout",
     "output_type": "stream",
     "text": [
      "['SAS', 'R', 'PYTHON', 'SPSS']\n",
      "['SAS', 'R', 'PYTHON']\n",
      "['SAS', 'R', 'PYTHON', 'SPARK']\n"
     ]
    }
   ],
   "source": [
    "input_list = ['SAS','R','PYTHON','SPSS']\n",
    "# remove SPSS and add SPARK\n",
    "print(input_list)\n",
    "input_list.remove('SPSS')\n",
    "print(input_list)\n",
    "input_list.append('SPARK')\n",
    "print(input_list)"
   ]
  },
  {
   "cell_type": "code",
   "execution_count": 247,
   "metadata": {},
   "outputs": [
    {
     "name": "stdout",
     "output_type": "stream",
     "text": [
      "['I love Data Science ', ' Python']\n"
     ]
    }
   ],
   "source": [
    "# STRING TO LIST CONVERSION \n",
    "#Convert a string input_str = 'I love Data Science & Python' to a list by splitting it on ‘&’. \n",
    "#The sample output for this string will be:\n",
    "\n",
    "input_str = 'I love Data Science & Python'\n",
    "input_list = input_str.split('&')\n",
    "print(input_list)\n"
   ]
  },
  {
   "cell_type": "code",
   "execution_count": 248,
   "metadata": {},
   "outputs": [
    {
     "name": "stdout",
     "output_type": "stream",
     "text": [
      "Pythons syntax is easy to learn & Pythons syntax is very clear\n"
     ]
    }
   ],
   "source": [
    "#LIST TO STRING CONVERSION\n",
    "input_list= ['Pythons syntax is easy to learn', 'Pythons syntax is very clear'] \n",
    "print(' & '.join(input_list))"
   ]
  },
  {
   "cell_type": "code",
   "execution_count": 249,
   "metadata": {},
   "outputs": [
    {
     "name": "stdout",
     "output_type": "stream",
     "text": [
      "Python\n"
     ]
    }
   ],
   "source": [
    "# Extract Python from a nested list input_list =  [['SAS','R'],['Tableau','SQL'],['Python','Java']]\n",
    "input_list =  [['SAS','R'],['Tableau','SQL'],['Python','Java']]\n",
    "print(input_list[2][0])"
   ]
  },
  {
   "cell_type": "code",
   "execution_count": 250,
   "metadata": {},
   "outputs": [
    {
     "name": "stdout",
     "output_type": "stream",
     "text": [
      "[['SAS', 'R'], ['Tableau', 'SQL'], ['Python', 'Java']]\n",
      "[]\n",
      "[]\n"
     ]
    }
   ],
   "source": [
    "#list CASTING\n",
    "print(input_list)\n",
    "input_list[:]=[]\n",
    "print(input_list) \n",
    "input_list[1:]=[]\n",
    "print(input_list)"
   ]
  },
  {
   "cell_type": "code",
   "execution_count": 316,
   "metadata": {},
   "outputs": [
    {
     "data": {
      "text/plain": [
       "[0, 0, 0, 0, 0, 0]"
      ]
     },
     "execution_count": 316,
     "metadata": {},
     "output_type": "execute_result"
    }
   ],
   "source": [
    "myList = [0] * 6\n",
    "myList"
   ]
  },
  {
   "cell_type": "code",
   "execution_count": null,
   "metadata": {},
   "outputs": [],
   "source": [
    " myList*2"
   ]
  },
  {
   "cell_type": "code",
   "execution_count": 252,
   "metadata": {},
   "outputs": [
    {
     "name": "stdout",
     "output_type": "stream",
     "text": [
      "[[1, 2, 3, 4], [1, 2, 3, 4], [1, 2, 3, 4]]\n",
      "[[1, 2, 45, 4], [1, 2, 45, 4], [1, 2, 45, 4]]\n"
     ]
    }
   ],
   "source": [
    "myList = [1,2,3,4]\n",
    "A = [myList]*3\n",
    "print(A)\n",
    "myList[2]=45\n",
    "print(A)"
   ]
  },
  {
   "cell_type": "markdown",
   "metadata": {},
   "source": [
    "| Method Name | Use | Explanation |\n",
    "|----|---|\n",
    "| append | alist.append(item) | Adds a new item to the end of a list |\n",
    "| insert\t| alist.insert(i,item) |\tInserts an item at the ith position in a list |\n",
    "|pop\t|alist.pop()\t|Removes and returns the last item in a list|\n",
    "|pop|\talist.pop(i)|\tRemoves and returns the ith item in a list|\n",
    "|sort|\talist.sort()|\tModifies a list to be sorted|\n",
    "|reverse|\talist.reverse()|\tModifies a list to be in reverse order|\n",
    "|del|\tdel alist[i]|\tDeletes the item in the ith position|\n",
    "|index|\talist.index(item)|\tReturns the index of the first occurrence of item|\n",
    "|count|\talist.count(item)|\tReturns the number of occurrences of item|\n",
    "|remove|\talist.remove(item)|\tRemoves the first occurrence of item|"
   ]
  },
  {
   "cell_type": "code",
   "execution_count": 253,
   "metadata": {},
   "outputs": [
    {
     "name": "stdout",
     "output_type": "stream",
     "text": [
      "[-1, 0, 1, 2, 3, 4, 22, 43, 73]\n"
     ]
    }
   ],
   "source": [
    "myList = [1,22,3,4,0,43,-1,73,2]\n",
    "myList.sort() # By Default ascending order\n",
    "print(myList)"
   ]
  },
  {
   "cell_type": "code",
   "execution_count": 254,
   "metadata": {},
   "outputs": [
    {
     "name": "stdout",
     "output_type": "stream",
     "text": [
      "[73, 43, 22, 4, 3, 2, 1, 0, -1]\n"
     ]
    }
   ],
   "source": [
    "myList = [1,22,3,4,0,43,-1,73,2]\n",
    "myList.sort(reverse=True) # descending order\n",
    "print(myList)"
   ]
  },
  {
   "cell_type": "code",
   "execution_count": 255,
   "metadata": {},
   "outputs": [
    {
     "name": "stdout",
     "output_type": "stream",
     "text": [
      "[2, 73, -1, 43, 0, 4, 3, 22, 1]\n"
     ]
    }
   ],
   "source": [
    "myList = [1,22,3,4,0,43,-1,73,2]\n",
    "myList.reverse()\n",
    "print(myList)"
   ]
  },
  {
   "cell_type": "code",
   "execution_count": 256,
   "metadata": {},
   "outputs": [
    {
     "name": "stdout",
     "output_type": "stream",
     "text": [
      "[1024, 3, True, 6.5, False]\n",
      "[1024, 3, 4.5, True, 6.5, False]\n",
      "False\n",
      "[1024, 3, 4.5, True, 6.5]\n",
      "3\n",
      "[1024, 4.5, True, 6.5]\n",
      "[1024, 4.5, 6.5]\n",
      "[4.5, 6.5, 1024]\n",
      "[1024, 6.5, 4.5]\n",
      "1\n",
      "2\n",
      "[1024, 4.5]\n",
      "[4.5]\n"
     ]
    }
   ],
   "source": [
    "myList = [1024, 3, True, 6.5]\n",
    "myList.append(False)\n",
    "print(myList)\n",
    "myList.insert(2,4.5)\n",
    "print(myList)\n",
    "print(myList.pop())\n",
    "print(myList)\n",
    "print(myList.pop(1))\n",
    "print(myList)\n",
    "myList.pop(2)\n",
    "print(myList)\n",
    "myList.sort()\n",
    "print(myList)\n",
    "myList.reverse()\n",
    "print(myList)\n",
    "print(myList.count(6.5)) # count of 6.5 in the list\n",
    "print(myList.index(4.5)) # return first occurence of 4.5\n",
    "myList.remove(6.5) # remove first occurence of 6.5\n",
    "print(myList)\n",
    "del myList[0] \n",
    "print(myList)"
   ]
  },
  {
   "cell_type": "code",
   "execution_count": 257,
   "metadata": {},
   "outputs": [
    {
     "data": {
      "text/plain": [
       "[1, 3, 3, 4]"
      ]
     },
     "execution_count": 257,
     "metadata": {},
     "output_type": "execute_result"
    }
   ],
   "source": [
    "#remove all occurence of 2 from the list\n",
    "x = [1,2,3,2,2,2,3,4]\n",
    "list(filter(lambda a: a != 2, x))"
   ]
  },
  {
   "cell_type": "markdown",
   "metadata": {},
   "source": [
    "#### Operation Name\tOperator\tExplanation\n",
    "- indexing\t[ ]\tAccess an element of a sequence\n",
    "- concatenation\t+\tCombine sequences together\n",
    "- repetition\t*\tConcatenate a repeated number of times\n",
    "- membership\tin\tAsk whether an item is in a sequence\n",
    "- length\tlen\tAsk the number of items in the sequence\n",
    "- slicing\t[ : ]\tExtract a part of a sequence"
   ]
  },
  {
   "cell_type": "code",
   "execution_count": 258,
   "metadata": {},
   "outputs": [
    {
     "name": "stdout",
     "output_type": "stream",
     "text": [
      "List is empty\n"
     ]
    }
   ],
   "source": [
    "#program to check list is empty or now\n",
    "l = []\n",
    "if not l:\n",
    "  print(\"List is empty\")"
   ]
  },
  {
   "cell_type": "code",
   "execution_count": 259,
   "metadata": {},
   "outputs": [
    {
     "name": "stdout",
     "output_type": "stream",
     "text": [
      "1\n",
      "2\n",
      "2\n",
      "2\n",
      "2\n",
      "3\n",
      "3\n",
      "4\n"
     ]
    }
   ],
   "source": [
    "#Iterate over sorted list\n",
    "x = [1,2,3,2,2,2,3,4]\n",
    "for i in sorted(x):\n",
    "    print(i)"
   ]
  },
  {
   "cell_type": "markdown",
   "metadata": {},
   "source": [
    "**Q. Given the list num_range, try printing:**  \n",
    "    a. Odd numbers  \n",
    "    b. Even numbers  \n",
    "    c. Numbers divisible by 3  \n",
    "    \n",
    "**Hint:** Try using the step-size after the end slice index"
   ]
  },
  {
   "cell_type": "code",
   "execution_count": 260,
   "metadata": {},
   "outputs": [
    {
     "data": {
      "text/plain": [
       "[3,\n",
       " 6,\n",
       " 9,\n",
       " 12,\n",
       " 15,\n",
       " 18,\n",
       " 21,\n",
       " 24,\n",
       " 27,\n",
       " 30,\n",
       " 33,\n",
       " 36,\n",
       " 39,\n",
       " 42,\n",
       " 45,\n",
       " 48,\n",
       " 51,\n",
       " 54,\n",
       " 57,\n",
       " 60,\n",
       " 63,\n",
       " 66,\n",
       " 69,\n",
       " 72,\n",
       " 75,\n",
       " 78,\n",
       " 81,\n",
       " 84,\n",
       " 87,\n",
       " 90,\n",
       " 93,\n",
       " 96,\n",
       " 99]"
      ]
     },
     "execution_count": 260,
     "metadata": {},
     "output_type": "execute_result"
    }
   ],
   "source": [
    "list_of_num= list(range(1,100))\n",
    "list_of_num[::2]##list_of_num_odd\n",
    "list_of_num[1::2]##list_of_num_even\n",
    "list_of_num[2::3]##list_of_num_even"
   ]
  },
  {
   "cell_type": "markdown",
   "metadata": {},
   "source": [
    "Q. Find the maximum, minimum and length from the list **num_range**.  \n",
    "**Hint:** Use max(), min() and len() respectively."
   ]
  },
  {
   "cell_type": "code",
   "execution_count": 261,
   "metadata": {},
   "outputs": [
    {
     "name": "stdout",
     "output_type": "stream",
     "text": [
      "99\n",
      "1\n"
     ]
    }
   ],
   "source": [
    "print(max(list_of_num))\n",
    "print(min(list_of_num))"
   ]
  },
  {
   "cell_type": "code",
   "execution_count": 262,
   "metadata": {},
   "outputs": [
    {
     "name": "stdout",
     "output_type": "stream",
     "text": [
      "Earth\n",
      "Air\n"
     ]
    }
   ],
   "source": [
    "names = ['Earth','Air','Fire','Water']\n",
    "print(max(names, key=len)) #based on the length of the name \n",
    "print(min(names, key=len))"
   ]
  },
  {
   "cell_type": "code",
   "execution_count": 263,
   "metadata": {},
   "outputs": [
    {
     "name": "stdout",
     "output_type": "stream",
     "text": [
      "['I', 'will', 'now', 'convert', 'this', 'to', 'a', 'list', 'of', 'words']\n"
     ]
    }
   ],
   "source": [
    "test_string = 'I will now convert this to a list of words'\n",
    "print(test_string.split())"
   ]
  },
  {
   "cell_type": "markdown",
   "metadata": {},
   "source": [
    "##### Tuples\n",
    "- Immutable means once we assign objects to a tuple ,the tuple cannot be changed under any circumstance.\n",
    "- Ordered series \n",
    "- Traditionally containing different objects\n",
    "- Advantages: Immutable and ordered. Relatively efficient memory usage (more than lists). \n",
    "- Disadvantages: Searching is O(n). Hard to understand for many Python newcomers.\n"
   ]
  },
  {
   "cell_type": "code",
   "execution_count": 264,
   "metadata": {},
   "outputs": [
    {
     "name": "stdout",
     "output_type": "stream",
     "text": [
      "Monty Python\n"
     ]
    }
   ],
   "source": [
    "first_tuple = (\"Monty Python\", 30, \"Baker Street\", 5.8)\n",
    "print(first_tuple[0])"
   ]
  },
  {
   "cell_type": "code",
   "execution_count": 265,
   "metadata": {},
   "outputs": [
    {
     "name": "stdout",
     "output_type": "stream",
     "text": [
      "4378975472 ('Mumbai', 18.9949521, 72.8141853)\n"
     ]
    }
   ],
   "source": [
    "city_tuple = (\"Mumbai\", 18.9949521, 72.8141853) \n",
    "print(id(city_tuple),city_tuple)"
   ]
  },
  {
   "cell_type": "code",
   "execution_count": 266,
   "metadata": {},
   "outputs": [
    {
     "name": "stdout",
     "output_type": "stream",
     "text": [
      "4378975472 ('Mumbai', 18.9949521, 72.8141853)\n"
     ]
    }
   ],
   "source": [
    "new_tuple = city_tuple\n",
    "print(id(new_tuple),new_tuple)"
   ]
  },
  {
   "cell_type": "code",
   "execution_count": 267,
   "metadata": {},
   "outputs": [],
   "source": [
    "#'tuple' object does not support item assignment means we cannot change value in tupple\n",
    "#new_tuple[1] = 13.8877"
   ]
  },
  {
   "cell_type": "code",
   "execution_count": 268,
   "metadata": {},
   "outputs": [
    {
     "name": "stdout",
     "output_type": "stream",
     "text": [
      "('Mumbai', 18.9949521, 72.8141853)\n",
      "3\n"
     ]
    }
   ],
   "source": [
    "b = city_tuple[:40000]\n",
    "print(b) #remeber this is not throwing error\n",
    "print(len(b))"
   ]
  },
  {
   "cell_type": "code",
   "execution_count": 269,
   "metadata": {},
   "outputs": [
    {
     "name": "stdout",
     "output_type": "stream",
     "text": [
      "('Mumbai', 18.9949521)\n",
      "2\n"
     ]
    }
   ],
   "source": [
    "b = city_tuple[:-1]\n",
    "print(b) #remeber this is not throwing error\n",
    "print(len(b))"
   ]
  },
  {
   "cell_type": "code",
   "execution_count": 270,
   "metadata": {},
   "outputs": [
    {
     "name": "stdout",
     "output_type": "stream",
     "text": [
      "c is: ['Mumbai', 18.9949521]\n",
      "c is now a tuple: ('Mumbai', 18.9949521)\n"
     ]
    }
   ],
   "source": [
    "c = list(b)\n",
    "print(\"c is: {0}\".format(c))\n",
    "c= tuple(c)\n",
    "print(\"c is now a tuple: {0}\".format(c))"
   ]
  },
  {
   "cell_type": "code",
   "execution_count": 271,
   "metadata": {},
   "outputs": [
    {
     "name": "stdout",
     "output_type": "stream",
     "text": [
      "<class 'str'>\n",
      "<class 'tuple'>\n"
     ]
    }
   ],
   "source": [
    "t = ('a', 1, [1,2,3]) \n",
    "t = ('a')\n",
    "print(type(t)) # if comma is not provided the data type will be string of t\n",
    "t = ('a',)\n",
    "print(type(t))"
   ]
  },
  {
   "cell_type": "code",
   "execution_count": 272,
   "metadata": {},
   "outputs": [
    {
     "name": "stdout",
     "output_type": "stream",
     "text": [
      "1\n",
      "2\n",
      "2\n",
      "2\n",
      "2\n",
      "3\n",
      "3\n",
      "4\n"
     ]
    }
   ],
   "source": [
    "#Iterate over sorted tuple\n",
    "x = tuple([1,2,3,2,2,2,3,4])\n",
    "for i in sorted(x):\n",
    "    print(i)"
   ]
  },
  {
   "cell_type": "code",
   "execution_count": 273,
   "metadata": {},
   "outputs": [
    {
     "name": "stdout",
     "output_type": "stream",
     "text": [
      "<class 'tuple'> (1, 2, 3, [1, 2, 3, 4])\n"
     ]
    }
   ],
   "source": [
    "#a tuple can contain mutable objects like list \n",
    "t=(1,2,3,[1,2,3,4])\n",
    "print(type(t),t)"
   ]
  },
  {
   "cell_type": "code",
   "execution_count": 274,
   "metadata": {},
   "outputs": [
    {
     "name": "stdout",
     "output_type": "stream",
     "text": [
      "2\n",
      "2\n"
     ]
    }
   ],
   "source": [
    "example = (\"Mumbai\",\"Chennai\",\"Delhi\",\"Kolkatta\",\"Mumbai\",\"Bangalore\")\n",
    "print(example.count(\"Mumbai\"))\n",
    "\n",
    "print(example.index(\"Delhi\"))"
   ]
  },
  {
   "cell_type": "markdown",
   "metadata": {},
   "source": [
    "#### UNORDERED DATA STRUCTURES"
   ]
  },
  {
   "cell_type": "markdown",
   "metadata": {},
   "source": [
    "##### Dictionary \n",
    "- Mutable\n",
    "- Unordered pairs (keys and values) of objects. Keys must be hashable.\n",
    "- Advantages: O(1) searching for keys. Makes it easy to create trees and other hierarchical data structures. Can be used to create self-documenting code. Many problems can be de- scribed in terms of key-value pairs.\n",
    "- Disadvantages: Only lookup by key. Uses more memory than lists and tuples. Keys must be hashable."
   ]
  },
  {
   "cell_type": "code",
   "execution_count": 275,
   "metadata": {},
   "outputs": [
    {
     "name": "stdout",
     "output_type": "stream",
     "text": [
      "<class 'dict'> {'Name': 'Gaurav', 'Age': 25, 'Country': 'India'}\n"
     ]
    }
   ],
   "source": [
    "person={'Name':'Gaurav','Age':25,'Country':'India'}\n",
    "print(type(person),person)"
   ]
  },
  {
   "cell_type": "code",
   "execution_count": 276,
   "metadata": {},
   "outputs": [
    {
     "name": "stdout",
     "output_type": "stream",
     "text": [
      "Gaurav\n",
      "25\n"
     ]
    }
   ],
   "source": [
    "#dictionary understands square brackets ,based on the key it returns value\n",
    "print(person['Name'])\n",
    "print(person['Age'])"
   ]
  },
  {
   "cell_type": "code",
   "execution_count": 277,
   "metadata": {},
   "outputs": [
    {
     "name": "stdout",
     "output_type": "stream",
     "text": [
      "{'Name': 'Gaurav', 'Age': 32, 'Country': 'India'}\n"
     ]
    }
   ],
   "source": [
    "#change the age of the person\n",
    "person['Age']=32\n",
    "print(person)"
   ]
  },
  {
   "cell_type": "code",
   "execution_count": 278,
   "metadata": {},
   "outputs": [
    {
     "name": "stdout",
     "output_type": "stream",
     "text": [
      "['a', 'e', 'i', 'o', 'u']\n",
      "{'a': 2, 'e': 0, 'i': 0, 'o': 0, 'u': 1}\n"
     ]
    }
   ],
   "source": [
    "#again write code for the vowels\n",
    "vowels=list('aeiou')\n",
    "found={'a':0,'e':0,'i':0,'o':0,'u':0}\n",
    "name=\"gaurav\"\n",
    "print(vowels)\n",
    "for char in name:\n",
    "    if char in vowels:\n",
    "        found[char] += 1\n",
    "print(found)    "
   ]
  },
  {
   "cell_type": "code",
   "execution_count": 279,
   "metadata": {},
   "outputs": [
    {
     "name": "stdout",
     "output_type": "stream",
     "text": [
      "a 2\n",
      "e 0\n",
      "i 0\n",
      "o 0\n",
      "u 1\n"
     ]
    }
   ],
   "source": [
    "#looping over the dictionary\n",
    "for key in found:\n",
    "    print(key,found[key]) # this is  printing the key and its value"
   ]
  },
  {
   "cell_type": "code",
   "execution_count": 280,
   "metadata": {},
   "outputs": [
    {
     "name": "stdout",
     "output_type": "stream",
     "text": [
      "a 2\n",
      "e 0\n",
      "i 0\n",
      "o 0\n",
      "u 1\n"
     ]
    }
   ],
   "source": [
    "#looping over the sorted keys\n",
    "for key in sorted(found):\n",
    "    print(key,found[key])"
   ]
  },
  {
   "cell_type": "code",
   "execution_count": 281,
   "metadata": {},
   "outputs": [
    {
     "name": "stdout",
     "output_type": "stream",
     "text": [
      "Age 32\n",
      "Country India\n",
      "Name Gaurav\n"
     ]
    }
   ],
   "source": [
    "#looping over the dictionary items\n",
    "for key,value in sorted(person.items()):\n",
    "    print(key,value)"
   ]
  },
  {
   "cell_type": "code",
   "execution_count": 282,
   "metadata": {},
   "outputs": [
    {
     "name": "stdout",
     "output_type": "stream",
     "text": [
      "Name Gaurav\n",
      "Age 32\n",
      "Country India\n"
     ]
    }
   ],
   "source": [
    "#we can get key and value both in the same loop\n",
    "for key,value in person.items():\n",
    "    print(key,value)"
   ]
  },
  {
   "cell_type": "code",
   "execution_count": 283,
   "metadata": {},
   "outputs": [
    {
     "name": "stdout",
     "output_type": "stream",
     "text": [
      "['a', 'e', 'i', 'o', 'u']\n",
      "{'a': 2, 'u': 1}\n"
     ]
    }
   ],
   "source": [
    "#Running this example again to show initialization of the dictionary before using it\n",
    "# here we have used IN operator ,but not it operator can be used\n",
    "vowels=list('aeiou')\n",
    "found={}\n",
    "name=\"gaurav\"\n",
    "print(vowels)\n",
    "for char in name:\n",
    "    if char in vowels:\n",
    "        if char in found:\n",
    "            found[char] += 1\n",
    "        else:\n",
    "            found[char] =1\n",
    "print(found)    "
   ]
  },
  {
   "cell_type": "code",
   "execution_count": 284,
   "metadata": {},
   "outputs": [
    {
     "name": "stdout",
     "output_type": "stream",
     "text": [
      "['a', 'e', 'i', 'o', 'u']\n",
      "{'a': 2, 'u': 1}\n"
     ]
    }
   ],
   "source": [
    "#Running this example again to show initialization of the dictionary before using it\n",
    "# here we have used setdefault method which initialize the dictionary with zero\n",
    "vowels=list('aeiou')\n",
    "found={}\n",
    "name=\"gaurav\"\n",
    "print(vowels)\n",
    "for char in name:\n",
    "    if char in vowels:\n",
    "        found.setdefault(char,0)\n",
    "        found[char] +=1\n",
    "        \n",
    "print(found) "
   ]
  },
  {
   "cell_type": "code",
   "execution_count": 285,
   "metadata": {},
   "outputs": [
    {
     "name": "stdout",
     "output_type": "stream",
     "text": [
      "{'Name': 'Bob Marley', 'Age': 35, 'Height': '5.6 ft', 'Hobby': 'Music'}\n"
     ]
    }
   ],
   "source": [
    "bio_data = {'Name': 'Bob Marley', 'Age':35, 'Height':\"5.6 ft\", 'Hobby': 'Music'}\n",
    "print(bio_data)"
   ]
  },
  {
   "cell_type": "code",
   "execution_count": 286,
   "metadata": {},
   "outputs": [
    {
     "name": "stdout",
     "output_type": "stream",
     "text": [
      "Bob Marley\n",
      "35\n",
      "5.6 ft\n",
      "None\n",
      "Not Exists\n"
     ]
    }
   ],
   "source": [
    "print(bio_data.get('Name'))\n",
    "print(bio_data.get('Age'))\n",
    "print(bio_data.get('Height'))\n",
    "print(bio_data.get('Occupation'))\n",
    "print(bio_data.get('Occupation','Not Exists')) # if the key does not exists ,then use a fallback"
   ]
  },
  {
   "cell_type": "code",
   "execution_count": 287,
   "metadata": {},
   "outputs": [
    {
     "data": {
      "text/plain": [
       "['Name', 'Age', 'Height', 'Hobby']"
      ]
     },
     "execution_count": 287,
     "metadata": {},
     "output_type": "execute_result"
    }
   ],
   "source": [
    "#convert the dictonary keys into list of keys\n",
    "list(bio_data.keys())"
   ]
  },
  {
   "cell_type": "code",
   "execution_count": 288,
   "metadata": {},
   "outputs": [
    {
     "data": {
      "text/plain": [
       "['Bob Marley', 35, '5.6 ft', 'Music']"
      ]
     },
     "execution_count": 288,
     "metadata": {},
     "output_type": "execute_result"
    }
   ],
   "source": [
    "#convert the dictonary value into list \n",
    "list(bio_data.values())"
   ]
  },
  {
   "cell_type": "code",
   "execution_count": 289,
   "metadata": {},
   "outputs": [
    {
     "data": {
      "text/plain": [
       "[('Name', 'Bob Marley'), ('Age', 35), ('Height', '5.6 ft'), ('Hobby', 'Music')]"
      ]
     },
     "execution_count": 289,
     "metadata": {},
     "output_type": "execute_result"
    }
   ],
   "source": [
    "#convert the dictonary items into list \n",
    " #inside the dictionary we have tuples\n",
    "list(bio_data.items())"
   ]
  },
  {
   "cell_type": "code",
   "execution_count": 290,
   "metadata": {},
   "outputs": [
    {
     "name": "stdout",
     "output_type": "stream",
     "text": [
      "{'Country': 'Jamaica', 'Songs': ['One Love', 'Misty Morning']}\n"
     ]
    }
   ],
   "source": [
    "#another way of creating a dictionary \n",
    "new_dictionary = dict(Country='Jamaica', Songs=['One Love','Misty Morning'])\n",
    "print(new_dictionary)"
   ]
  },
  {
   "cell_type": "code",
   "execution_count": 291,
   "metadata": {},
   "outputs": [
    {
     "name": "stdout",
     "output_type": "stream",
     "text": [
      "{'Name': 'Bob Marley', 'Age': 35, 'Height': '5.6 ft', 'Hobby': 'Music'}\n",
      "{'Name': 'Bob Marley', 'Age': 35, 'Height': '5.6 ft', 'Hobby': 'Music', 'Country': 'Jamaica', 'Songs': ['One Love', 'Misty Morning']}\n"
     ]
    }
   ],
   "source": [
    "#dictionary is mutable and updates add items to the dict\n",
    "print(bio_data)\n",
    "bio_data.update(new_dictionary)\n",
    "print(bio_data)"
   ]
  },
  {
   "cell_type": "code",
   "execution_count": 292,
   "metadata": {},
   "outputs": [
    {
     "name": "stdout",
     "output_type": "stream",
     "text": [
      "{'Name': 'Bob Marley', 'Age': 35, 'Height': '5.6 ft', 'Hobby': 'Music', 'Country': 'Jamaica'}\n"
     ]
    }
   ],
   "source": [
    "del bio_data['Songs']\n",
    "print(bio_data)"
   ]
  },
  {
   "cell_type": "code",
   "execution_count": 293,
   "metadata": {},
   "outputs": [
    {
     "name": "stdout",
     "output_type": "stream",
     "text": [
      "{1: ['Shivam Bansal', 24], 2: ['Udit Bansal', 25], 3: ['Sonam Gupta', 26], 4: ['Saif Ansari', 24], 5: ['Huzefa Calcuttawala', 27]}\n"
     ]
    }
   ],
   "source": [
    "students_data = { 1:['Shivam Bansal', 24] , 2:['Udit Bansal',25], 3:['Sonam Gupta', 26], 4:['Saif Ansari',24], 5:['Huzefa Calcuttawala',27]}\n",
    "\n",
    "print(students_data)\n",
    "\n"
   ]
  },
  {
   "cell_type": "code",
   "execution_count": 294,
   "metadata": {},
   "outputs": [
    {
     "name": "stdout",
     "output_type": "stream",
     "text": [
      "5\n"
     ]
    }
   ],
   "source": [
    "print(len(students_data))"
   ]
  },
  {
   "cell_type": "code",
   "execution_count": 295,
   "metadata": {},
   "outputs": [
    {
     "name": "stdout",
     "output_type": "stream",
     "text": [
      "{1: ['Shivam Bansal', 24], 2: ['Udit Bansal', 25], 3: ['Sonam Gupta', 26], 4: ['Saif Ansari', 24], 5: ['Huzefa Calcuttawala', 27], 6: ['Manasi Sharma', 22]}\n"
     ]
    }
   ],
   "source": [
    "students_data[6] = ['Manasi Sharma', 22]\n",
    "print(students_data)"
   ]
  },
  {
   "cell_type": "code",
   "execution_count": 296,
   "metadata": {},
   "outputs": [
    {
     "data": {
      "text/plain": [
       "'NA'"
      ]
     },
     "execution_count": 296,
     "metadata": {},
     "output_type": "execute_result"
    }
   ],
   "source": [
    "input_dict={'Name': 'Monty', 'Profession': 'Singer' }\n",
    "input_dict.get('Label','NA')"
   ]
  },
  {
   "cell_type": "code",
   "execution_count": 297,
   "metadata": {},
   "outputs": [
    {
     "name": "stdout",
     "output_type": "stream",
     "text": [
      "Apple\n"
     ]
    }
   ],
   "source": [
    "company_ceo={'Jack Dorsey': 'Twitter', 'Tim Cook': 'Apple','Jeff Bezos': 'Amazon','Mukesh Ambani': 'RJIO'}\n",
    "print(company_ceo.get('Tim Cook'))"
   ]
  },
  {
   "cell_type": "code",
   "execution_count": 298,
   "metadata": {},
   "outputs": [
    {
     "data": {
      "text/plain": [
       "['Amazon', 'Apple', 'RJIO', 'Twitter']"
      ]
     },
     "execution_count": 298,
     "metadata": {},
     "output_type": "execute_result"
    }
   ],
   "source": [
    "#created a sorted list of values from the dictionay\n",
    "input_dict = {'Jack Dorsey' : 'Twitter' , 'Tim Cook' : 'Apple','Jeff Bezos' : 'Amazon' ,'Mukesh Ambani' : 'RJIO'}\n",
    "sorted(list(input_dict.values()))\n"
   ]
  },
  {
   "cell_type": "code",
   "execution_count": 299,
   "metadata": {},
   "outputs": [
    {
     "name": "stdout",
     "output_type": "stream",
     "text": [
      "Help on class dict in module builtins:\n",
      "\n",
      "class dict(object)\n",
      " |  dict() -> new empty dictionary\n",
      " |  dict(mapping) -> new dictionary initialized from a mapping object's\n",
      " |      (key, value) pairs\n",
      " |  dict(iterable) -> new dictionary initialized as if via:\n",
      " |      d = {}\n",
      " |      for k, v in iterable:\n",
      " |          d[k] = v\n",
      " |  dict(**kwargs) -> new dictionary initialized with the name=value pairs\n",
      " |      in the keyword argument list.  For example:  dict(one=1, two=2)\n",
      " |  \n",
      " |  Methods defined here:\n",
      " |  \n",
      " |  __contains__(self, key, /)\n",
      " |      True if D has a key k, else False.\n",
      " |  \n",
      " |  __delitem__(self, key, /)\n",
      " |      Delete self[key].\n",
      " |  \n",
      " |  __eq__(self, value, /)\n",
      " |      Return self==value.\n",
      " |  \n",
      " |  __ge__(self, value, /)\n",
      " |      Return self>=value.\n",
      " |  \n",
      " |  __getattribute__(self, name, /)\n",
      " |      Return getattr(self, name).\n",
      " |  \n",
      " |  __getitem__(...)\n",
      " |      x.__getitem__(y) <==> x[y]\n",
      " |  \n",
      " |  __gt__(self, value, /)\n",
      " |      Return self>value.\n",
      " |  \n",
      " |  __init__(self, /, *args, **kwargs)\n",
      " |      Initialize self.  See help(type(self)) for accurate signature.\n",
      " |  \n",
      " |  __iter__(self, /)\n",
      " |      Implement iter(self).\n",
      " |  \n",
      " |  __le__(self, value, /)\n",
      " |      Return self<=value.\n",
      " |  \n",
      " |  __len__(self, /)\n",
      " |      Return len(self).\n",
      " |  \n",
      " |  __lt__(self, value, /)\n",
      " |      Return self<value.\n",
      " |  \n",
      " |  __ne__(self, value, /)\n",
      " |      Return self!=value.\n",
      " |  \n",
      " |  __new__(*args, **kwargs) from builtins.type\n",
      " |      Create and return a new object.  See help(type) for accurate signature.\n",
      " |  \n",
      " |  __repr__(self, /)\n",
      " |      Return repr(self).\n",
      " |  \n",
      " |  __setitem__(self, key, value, /)\n",
      " |      Set self[key] to value.\n",
      " |  \n",
      " |  __sizeof__(...)\n",
      " |      D.__sizeof__() -> size of D in memory, in bytes\n",
      " |  \n",
      " |  clear(...)\n",
      " |      D.clear() -> None.  Remove all items from D.\n",
      " |  \n",
      " |  copy(...)\n",
      " |      D.copy() -> a shallow copy of D\n",
      " |  \n",
      " |  fromkeys(iterable, value=None, /) from builtins.type\n",
      " |      Returns a new dict with keys from iterable and values equal to value.\n",
      " |  \n",
      " |  get(...)\n",
      " |      D.get(k[,d]) -> D[k] if k in D, else d.  d defaults to None.\n",
      " |  \n",
      " |  items(...)\n",
      " |      D.items() -> a set-like object providing a view on D's items\n",
      " |  \n",
      " |  keys(...)\n",
      " |      D.keys() -> a set-like object providing a view on D's keys\n",
      " |  \n",
      " |  pop(...)\n",
      " |      D.pop(k[,d]) -> v, remove specified key and return the corresponding value.\n",
      " |      If key is not found, d is returned if given, otherwise KeyError is raised\n",
      " |  \n",
      " |  popitem(...)\n",
      " |      D.popitem() -> (k, v), remove and return some (key, value) pair as a\n",
      " |      2-tuple; but raise KeyError if D is empty.\n",
      " |  \n",
      " |  setdefault(...)\n",
      " |      D.setdefault(k[,d]) -> D.get(k,d), also set D[k]=d if k not in D\n",
      " |  \n",
      " |  update(...)\n",
      " |      D.update([E, ]**F) -> None.  Update D from dict/iterable E and F.\n",
      " |      If E is present and has a .keys() method, then does:  for k in E: D[k] = E[k]\n",
      " |      If E is present and lacks a .keys() method, then does:  for k, v in E: D[k] = v\n",
      " |      In either case, this is followed by: for k in F:  D[k] = F[k]\n",
      " |  \n",
      " |  values(...)\n",
      " |      D.values() -> an object providing a view on D's values\n",
      " |  \n",
      " |  ----------------------------------------------------------------------\n",
      " |  Data and other attributes defined here:\n",
      " |  \n",
      " |  __hash__ = None\n",
      "\n",
      "None\n"
     ]
    }
   ],
   "source": [
    "print(help(dict))"
   ]
  },
  {
   "cell_type": "markdown",
   "metadata": {},
   "source": [
    "##### Set\n",
    "- A data struture that avoids Duplicate\n",
    "- Mutable\n",
    "- Unordered\n",
    "- Unique objects. Elements must be hashable. \n",
    "- Advantages: Searching is O(1). Lots of useful methods.\n",
    "- Disadvantages: Not ordered. Elements must be hashable."
   ]
  },
  {
   "cell_type": "code",
   "execution_count": 300,
   "metadata": {
    "collapsed": true
   },
   "outputs": [],
   "source": [
    "students_list = ['A','A','B','C','C','E','N']"
   ]
  },
  {
   "cell_type": "code",
   "execution_count": 301,
   "metadata": {},
   "outputs": [
    {
     "name": "stdout",
     "output_type": "stream",
     "text": [
      "<class 'set'> {'A', 'E', 'C', 'N', 'B'}\n"
     ]
    }
   ],
   "source": [
    "students_set = set(students_list)\n",
    "print(type(students_set),students_set)"
   ]
  },
  {
   "cell_type": "code",
   "execution_count": 302,
   "metadata": {
    "collapsed": true
   },
   "outputs": [],
   "source": [
    "students_list_2 = ['A','N','F','N','G','A']"
   ]
  },
  {
   "cell_type": "code",
   "execution_count": 303,
   "metadata": {
    "collapsed": true
   },
   "outputs": [],
   "source": [
    "students_set_2 = set(students_list_2)"
   ]
  },
  {
   "cell_type": "code",
   "execution_count": 304,
   "metadata": {},
   "outputs": [
    {
     "name": "stdout",
     "output_type": "stream",
     "text": [
      "{'N', 'A'}\n"
     ]
    }
   ],
   "source": [
    "print(students_set.intersection(students_set_2))"
   ]
  },
  {
   "cell_type": "code",
   "execution_count": 305,
   "metadata": {},
   "outputs": [
    {
     "name": "stdout",
     "output_type": "stream",
     "text": [
      "{'F', 'C', 'N', 'G', 'A', 'E', 'B'}\n"
     ]
    }
   ],
   "source": [
    "print(students_set.union(students_set_2))"
   ]
  },
  {
   "cell_type": "code",
   "execution_count": 306,
   "metadata": {},
   "outputs": [
    {
     "name": "stdout",
     "output_type": "stream",
     "text": [
      "{'C', 'B', 'E'}\n"
     ]
    }
   ],
   "source": [
    " print(students_set.difference(students_set_2))"
   ]
  },
  {
   "cell_type": "markdown",
   "metadata": {},
   "source": [
    "Set_diff\n",
    "Description\n",
    "Find the difference, using difference and symmetric_difference, between two given lists - list1 and list2.\n",
    "\n",
    "First, convert the lists into sets and store them as set_1 and set_2. Then store the difference and symmetric difference in answer_1 and answer_2 respectively. Print both the answers as sorted lists, i.e. convert the final sets to lists, sort it and then return it."
   ]
  },
  {
   "cell_type": "code",
   "execution_count": 307,
   "metadata": {},
   "outputs": [
    {
     "name": "stdout",
     "output_type": "stream",
     "text": [
      "{1, 2, 3, 4, 5, 6}\n",
      "{2, 3, 4, 5, 6, 7, 8, 9}\n",
      "<class 'list'> [1]\n",
      "<class 'list'> [1, 7, 8, 9]\n"
     ]
    }
   ],
   "source": [
    "master_list =[[1,2,3,4,5,6],[2,3,4,5,6,7,8,9]]\n",
    "list1=master_list[0]\n",
    "list2=master_list[1]\n",
    "set_1=set(list1)\n",
    "set_2=set(list2)\n",
    "print(set_1)\n",
    "print(set_2)\n",
    "answer_1=sorted(set_1.difference(set_2)) # return list\n",
    "answer_2=sorted(set_1.symmetric_difference(set_2)) # return list\n",
    "print(type(answer_1),answer_1)\n",
    "print(type(answer_2),answer_2)"
   ]
  },
  {
   "cell_type": "code",
   "execution_count": 308,
   "metadata": {},
   "outputs": [
    {
     "name": "stdout",
     "output_type": "stream",
     "text": [
      "Help on class set in module builtins:\n",
      "\n",
      "class set(object)\n",
      " |  set() -> new empty set object\n",
      " |  set(iterable) -> new set object\n",
      " |  \n",
      " |  Build an unordered collection of unique elements.\n",
      " |  \n",
      " |  Methods defined here:\n",
      " |  \n",
      " |  __and__(self, value, /)\n",
      " |      Return self&value.\n",
      " |  \n",
      " |  __contains__(...)\n",
      " |      x.__contains__(y) <==> y in x.\n",
      " |  \n",
      " |  __eq__(self, value, /)\n",
      " |      Return self==value.\n",
      " |  \n",
      " |  __ge__(self, value, /)\n",
      " |      Return self>=value.\n",
      " |  \n",
      " |  __getattribute__(self, name, /)\n",
      " |      Return getattr(self, name).\n",
      " |  \n",
      " |  __gt__(self, value, /)\n",
      " |      Return self>value.\n",
      " |  \n",
      " |  __iand__(self, value, /)\n",
      " |      Return self&=value.\n",
      " |  \n",
      " |  __init__(self, /, *args, **kwargs)\n",
      " |      Initialize self.  See help(type(self)) for accurate signature.\n",
      " |  \n",
      " |  __ior__(self, value, /)\n",
      " |      Return self|=value.\n",
      " |  \n",
      " |  __isub__(self, value, /)\n",
      " |      Return self-=value.\n",
      " |  \n",
      " |  __iter__(self, /)\n",
      " |      Implement iter(self).\n",
      " |  \n",
      " |  __ixor__(self, value, /)\n",
      " |      Return self^=value.\n",
      " |  \n",
      " |  __le__(self, value, /)\n",
      " |      Return self<=value.\n",
      " |  \n",
      " |  __len__(self, /)\n",
      " |      Return len(self).\n",
      " |  \n",
      " |  __lt__(self, value, /)\n",
      " |      Return self<value.\n",
      " |  \n",
      " |  __ne__(self, value, /)\n",
      " |      Return self!=value.\n",
      " |  \n",
      " |  __new__(*args, **kwargs) from builtins.type\n",
      " |      Create and return a new object.  See help(type) for accurate signature.\n",
      " |  \n",
      " |  __or__(self, value, /)\n",
      " |      Return self|value.\n",
      " |  \n",
      " |  __rand__(self, value, /)\n",
      " |      Return value&self.\n",
      " |  \n",
      " |  __reduce__(...)\n",
      " |      Return state information for pickling.\n",
      " |  \n",
      " |  __repr__(self, /)\n",
      " |      Return repr(self).\n",
      " |  \n",
      " |  __ror__(self, value, /)\n",
      " |      Return value|self.\n",
      " |  \n",
      " |  __rsub__(self, value, /)\n",
      " |      Return value-self.\n",
      " |  \n",
      " |  __rxor__(self, value, /)\n",
      " |      Return value^self.\n",
      " |  \n",
      " |  __sizeof__(...)\n",
      " |      S.__sizeof__() -> size of S in memory, in bytes\n",
      " |  \n",
      " |  __sub__(self, value, /)\n",
      " |      Return self-value.\n",
      " |  \n",
      " |  __xor__(self, value, /)\n",
      " |      Return self^value.\n",
      " |  \n",
      " |  add(...)\n",
      " |      Add an element to a set.\n",
      " |      \n",
      " |      This has no effect if the element is already present.\n",
      " |  \n",
      " |  clear(...)\n",
      " |      Remove all elements from this set.\n",
      " |  \n",
      " |  copy(...)\n",
      " |      Return a shallow copy of a set.\n",
      " |  \n",
      " |  difference(...)\n",
      " |      Return the difference of two or more sets as a new set.\n",
      " |      \n",
      " |      (i.e. all elements that are in this set but not the others.)\n",
      " |  \n",
      " |  difference_update(...)\n",
      " |      Remove all elements of another set from this set.\n",
      " |  \n",
      " |  discard(...)\n",
      " |      Remove an element from a set if it is a member.\n",
      " |      \n",
      " |      If the element is not a member, do nothing.\n",
      " |  \n",
      " |  intersection(...)\n",
      " |      Return the intersection of two sets as a new set.\n",
      " |      \n",
      " |      (i.e. all elements that are in both sets.)\n",
      " |  \n",
      " |  intersection_update(...)\n",
      " |      Update a set with the intersection of itself and another.\n",
      " |  \n",
      " |  isdisjoint(...)\n",
      " |      Return True if two sets have a null intersection.\n",
      " |  \n",
      " |  issubset(...)\n",
      " |      Report whether another set contains this set.\n",
      " |  \n",
      " |  issuperset(...)\n",
      " |      Report whether this set contains another set.\n",
      " |  \n",
      " |  pop(...)\n",
      " |      Remove and return an arbitrary set element.\n",
      " |      Raises KeyError if the set is empty.\n",
      " |  \n",
      " |  remove(...)\n",
      " |      Remove an element from a set; it must be a member.\n",
      " |      \n",
      " |      If the element is not a member, raise a KeyError.\n",
      " |  \n",
      " |  symmetric_difference(...)\n",
      " |      Return the symmetric difference of two sets as a new set.\n",
      " |      \n",
      " |      (i.e. all elements that are in exactly one of the sets.)\n",
      " |  \n",
      " |  symmetric_difference_update(...)\n",
      " |      Update a set with the symmetric difference of itself and another.\n",
      " |  \n",
      " |  union(...)\n",
      " |      Return the union of sets as a new set.\n",
      " |      \n",
      " |      (i.e. all elements that are in either set.)\n",
      " |  \n",
      " |  update(...)\n",
      " |      Update a set with the union of itself and others.\n",
      " |  \n",
      " |  ----------------------------------------------------------------------\n",
      " |  Data and other attributes defined here:\n",
      " |  \n",
      " |  __hash__ = None\n",
      "\n",
      "None\n"
     ]
    }
   ],
   "source": [
    "print(help(set))"
   ]
  },
  {
   "cell_type": "code",
   "execution_count": 309,
   "metadata": {},
   "outputs": [
    {
     "name": "stdout",
     "output_type": "stream",
     "text": [
      "{1, 3, 4}\n"
     ]
    }
   ],
   "source": [
    "new_set={1,1,3,4}\n",
    "print(new_set)"
   ]
  },
  {
   "cell_type": "markdown",
   "metadata": {},
   "source": [
    "\n",
    "| Method Name | Use | Explanation |\n",
    "|----|---|\n",
    "| union | aset.union(otherset) | Returns a new set with all elements from both sets |\n",
    "| intersection\t| aset.intersection(otherset) |\tReturns a new set with only those elements common to both sets |\n",
    "|difference\t|aset.difference(otherset)\t|Returns a new set with all items from first set not in second|\n",
    "|issubset|\taset.issubset(otherset)|\t\tAsks whether all elements of one set are in the other|\n",
    "|add|\taset.add(item)|\tAdds item to the set|\n",
    "|remove|\taset.remove(item)|\tRemoves item from the set|\n",
    "|pop|\taset.pop()|\tRemoves an arbitrary element from the set|\n",
    "|clear|\taset.clear()|\tRemoves all elements from the set|"
   ]
  },
  {
   "cell_type": "code",
   "execution_count": 310,
   "metadata": {},
   "outputs": [
    {
     "name": "stdout",
     "output_type": "stream",
     "text": [
      "{'C', 'B', 'D', 'A'}\n"
     ]
    }
   ],
   "source": [
    "list_with_duplicates = ['A','B','A','C','D','C','C','B']\n",
    "print(set(list_with_duplicates))"
   ]
  },
  {
   "cell_type": "code",
   "execution_count": 311,
   "metadata": {},
   "outputs": [
    {
     "name": "stdout",
     "output_type": "stream",
     "text": [
      "['C', 'B', 'D', 'A']\n"
     ]
    }
   ],
   "source": [
    "list_with_duplicates = ['A','B','A','C','D','C','C','B']\n",
    "print(list(set(list_with_duplicates)))"
   ]
  },
  {
   "cell_type": "code",
   "execution_count": 312,
   "metadata": {},
   "outputs": [
    {
     "name": "stdout",
     "output_type": "stream",
     "text": [
      "{1, 2, 3, 4, 5}\n"
     ]
    }
   ],
   "source": [
    "# add a value in the set \n",
    "set1=set([1,2,3,4])\n",
    "set1.add(5)\n",
    "print(set1)"
   ]
  },
  {
   "cell_type": "code",
   "execution_count": 313,
   "metadata": {},
   "outputs": [
    {
     "name": "stdout",
     "output_type": "stream",
     "text": [
      "{1, 2, 4, 5}\n"
     ]
    }
   ],
   "source": [
    "#remove element ftrom set\n",
    "set1.remove(3)\n",
    "print(set1)"
   ]
  },
  {
   "cell_type": "code",
   "execution_count": 315,
   "metadata": {},
   "outputs": [
    {
     "ename": "TypeError",
     "evalue": "unsupported operand type(s) for ** or pow(): 'set' and 'int'",
     "output_type": "error",
     "traceback": [
      "\u001b[0;31m---------------------------------------------------------------------------\u001b[0m",
      "\u001b[0;31mTypeError\u001b[0m                                 Traceback (most recent call last)",
      "\u001b[0;32m<ipython-input-315-b7921f86ce41>\u001b[0m in \u001b[0;36m<module>\u001b[0;34m()\u001b[0m\n\u001b[0;32m----> 1\u001b[0;31m \u001b[0mset1\u001b[0m\u001b[0;34m**\u001b[0m\u001b[0;36m2\u001b[0m\u001b[0;34m\u001b[0m\u001b[0;34m\u001b[0m\u001b[0m\n\u001b[0m",
      "\u001b[0;31mTypeError\u001b[0m: unsupported operand type(s) for ** or pow(): 'set' and 'int'"
     ]
    }
   ],
   "source": [
    " #set1**2"
   ]
  },
  {
   "cell_type": "code",
   "execution_count": null,
   "metadata": {
    "collapsed": true
   },
   "outputs": [],
   "source": []
  }
 ],
 "metadata": {
  "kernelspec": {
   "display_name": "Python 3",
   "language": "python",
   "name": "python3"
  },
  "language_info": {
   "codemirror_mode": {
    "name": "ipython",
    "version": 3
   },
   "file_extension": ".py",
   "mimetype": "text/x-python",
   "name": "python",
   "nbconvert_exporter": "python",
   "pygments_lexer": "ipython3",
   "version": "3.6.8"
  }
 },
 "nbformat": 4,
 "nbformat_minor": 2
}
